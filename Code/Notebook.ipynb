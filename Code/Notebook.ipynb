{
 "cells": [
  {
   "cell_type": "code",
   "execution_count": 44,
   "metadata": {},
   "outputs": [],
   "source": [
    "import pandas as pd\n",
    "import matplotlib.pyplot as plt\n"
   ]
  },
  {
   "cell_type": "code",
   "execution_count": 28,
   "metadata": {},
   "outputs": [],
   "source": [
    "def leer_datos(path:str):\n",
    "    '''A través de una dirección (\"path\") se realiza la lectura de datos. Después, corrige el tipo de la \n",
    "    variable TS a datetime. '''\n",
    "    df=pd.read_csv(path)\n",
    "    df['TS']=pd.to_datetime(df['TS'])\n",
    "    return df\n"
   ]
  },
  {
   "cell_type": "code",
   "execution_count": 30,
   "metadata": {},
   "outputs": [
    {
     "data": {
      "text/html": [
       "<div>\n",
       "<style scoped>\n",
       "    .dataframe tbody tr th:only-of-type {\n",
       "        vertical-align: middle;\n",
       "    }\n",
       "\n",
       "    .dataframe tbody tr th {\n",
       "        vertical-align: top;\n",
       "    }\n",
       "\n",
       "    .dataframe thead th {\n",
       "        text-align: right;\n",
       "    }\n",
       "</style>\n",
       "<table border=\"1\" class=\"dataframe\">\n",
       "  <thead>\n",
       "    <tr style=\"text-align: right;\">\n",
       "      <th></th>\n",
       "      <th>TS</th>\n",
       "      <th>Tag</th>\n",
       "      <th>Value</th>\n",
       "    </tr>\n",
       "  </thead>\n",
       "  <tbody>\n",
       "    <tr>\n",
       "      <th>0</th>\n",
       "      <td>2024-01-01</td>\n",
       "      <td>Examen_Nimrod</td>\n",
       "      <td>67.353493</td>\n",
       "    </tr>\n",
       "    <tr>\n",
       "      <th>1</th>\n",
       "      <td>2024-01-01</td>\n",
       "      <td>Examen_Luis</td>\n",
       "      <td>3.222802</td>\n",
       "    </tr>\n",
       "    <tr>\n",
       "      <th>2</th>\n",
       "      <td>2024-01-01</td>\n",
       "      <td>Examen_MariaJose</td>\n",
       "      <td>74.931149</td>\n",
       "    </tr>\n",
       "    <tr>\n",
       "      <th>3</th>\n",
       "      <td>2024-01-01</td>\n",
       "      <td>Examen_Nicolas</td>\n",
       "      <td>51.593694</td>\n",
       "    </tr>\n",
       "    <tr>\n",
       "      <th>4</th>\n",
       "      <td>2024-01-01</td>\n",
       "      <td>Examen_Kailei</td>\n",
       "      <td>52.420169</td>\n",
       "    </tr>\n",
       "    <tr>\n",
       "      <th>...</th>\n",
       "      <td>...</td>\n",
       "      <td>...</td>\n",
       "      <td>...</td>\n",
       "    </tr>\n",
       "    <tr>\n",
       "      <th>995</th>\n",
       "      <td>2024-02-28</td>\n",
       "      <td>Examen_Kenya</td>\n",
       "      <td>39.129698</td>\n",
       "    </tr>\n",
       "    <tr>\n",
       "      <th>996</th>\n",
       "      <td>2024-02-28</td>\n",
       "      <td>Examen_Miguel</td>\n",
       "      <td>63.217950</td>\n",
       "    </tr>\n",
       "    <tr>\n",
       "      <th>997</th>\n",
       "      <td>2024-02-28</td>\n",
       "      <td>Examen_Claudia</td>\n",
       "      <td>79.964536</td>\n",
       "    </tr>\n",
       "    <tr>\n",
       "      <th>998</th>\n",
       "      <td>2024-02-28</td>\n",
       "      <td>Examen_Ana</td>\n",
       "      <td>41.243360</td>\n",
       "    </tr>\n",
       "    <tr>\n",
       "      <th>999</th>\n",
       "      <td>2024-02-28</td>\n",
       "      <td>Examen_Daniel</td>\n",
       "      <td>41.925259</td>\n",
       "    </tr>\n",
       "  </tbody>\n",
       "</table>\n",
       "<p>1000 rows × 3 columns</p>\n",
       "</div>"
      ],
      "text/plain": [
       "            TS               Tag      Value\n",
       "0   2024-01-01     Examen_Nimrod  67.353493\n",
       "1   2024-01-01       Examen_Luis   3.222802\n",
       "2   2024-01-01  Examen_MariaJose  74.931149\n",
       "3   2024-01-01    Examen_Nicolas  51.593694\n",
       "4   2024-01-01     Examen_Kailei  52.420169\n",
       "..         ...               ...        ...\n",
       "995 2024-02-28      Examen_Kenya  39.129698\n",
       "996 2024-02-28     Examen_Miguel  63.217950\n",
       "997 2024-02-28    Examen_Claudia  79.964536\n",
       "998 2024-02-28        Examen_Ana  41.243360\n",
       "999 2024-02-28     Examen_Daniel  41.925259\n",
       "\n",
       "[1000 rows x 3 columns]"
      ]
     },
     "execution_count": 30,
     "metadata": {},
     "output_type": "execute_result"
    }
   ],
   "source": [
    "leer_datos('C:/Users/nicol/OneDrive/Documentos/examen_evaluacion/examen_evaluacion/Data/datos_examen.csv')"
   ]
  },
  {
   "cell_type": "code",
   "execution_count": 31,
   "metadata": {},
   "outputs": [],
   "source": [
    "def filtrar_calcular_media(df)->str:\n",
    "    '''Se toma como input el dataframe elaborado en la función leer_datos(), através del método groupby,\n",
    "    se obtiene la media de la columna 'Value' en función de cada valor único en la columna 'Tag'. '''\n",
    "    result = df.groupby('Tag')['Value'].mean()\n",
    "    return result"
   ]
  },
  {
   "cell_type": "code",
   "execution_count": 32,
   "metadata": {},
   "outputs": [
    {
     "data": {
      "text/plain": [
       "Tag\n",
       "Examen_Ana          50.412359\n",
       "Examen_Carlos       49.307919\n",
       "Examen_Claudia      49.534262\n",
       "Examen_Daniel       43.645259\n",
       "Examen_Ignacio      45.525438\n",
       "Examen_Jose         52.420592\n",
       "Examen_Kailei       53.682520\n",
       "Examen_Kenya        49.179473\n",
       "Examen_Luis         47.718214\n",
       "Examen_Manuel       55.570739\n",
       "Examen_MariaJose    48.526735\n",
       "Examen_Miguel       48.245528\n",
       "Examen_Nicolas      44.718336\n",
       "Examen_Nimrod       52.205145\n",
       "Examen_Noelia       53.120691\n",
       "Examen_Paulo        51.419221\n",
       "Examen_Victor       48.645458\n",
       "Name: Value, dtype: float64"
      ]
     },
     "execution_count": 32,
     "metadata": {},
     "output_type": "execute_result"
    }
   ],
   "source": [
    "\n",
    "filtrar_calcular_media(leer_datos('C:/Users/nicol/OneDrive/Documentos/examen_evaluacion/examen_evaluacion/Data/datos_examen.csv'))"
   ]
  },
  {
   "cell_type": "code",
   "execution_count": 42,
   "metadata": {},
   "outputs": [],
   "source": [
    "def grafico_barras(df)->str:\n",
    "\n",
    "    '''Se toma como input el dataframe elaborado en la función leer_datos(), através de la función creada\n",
    "    previamente de filtrar_calcular_media(df) método groupby, se obtiene la media de la columna 'Value'\n",
    "    en función de cada valor único en la columna 'Tag'. Finalmente, haciendo uso de la libreria matplotlib,\n",
    "    realizamos un gráfico de barras del mismo. '''\n",
    "\n",
    "    result = filtrar_calcular_media(leer_datos('C:/Users/nicol/OneDrive/Documentos/examen_evaluacion/examen_evaluacion/Data/datos_examen.csv'))\n",
    "\n",
    "    plt.figure(figsize=(10, 6)) \n",
    "\n",
    "    result.plot(kind='bar')\n",
    "\n",
    "    plt.title('Media de valores por Tag')\n",
    "    plt.xlabel('Tag')\n",
    "    plt.ylabel('Media de valores')\n",
    "    plt.xticks(rotation=45)\n",
    "\n",
    "    plt.tight_layout()\n",
    "    plt.show()\n"
   ]
  },
  {
   "cell_type": "code",
   "execution_count": 43,
   "metadata": {},
   "outputs": [
    {
     "data": {
      "image/png": "[encoded data removed]",
      "text/plain": [
       "<Figure size 1000x600 with 1 Axes>"
      ]
     },
     "metadata": {},
     "output_type": "display_data"
    }
   ],
   "source": [
    "grafico_barras(leer_datos('C:/Users/nicol/OneDrive/Documentos/examen_evaluacion/examen_evaluacion/Data/datos_examen.csv'))"
   ]
  },
  {
   "cell_type": "code",
   "execution_count": 2,
   "metadata": {},
   "outputs": [
    {
     "name": "stdout",
     "output_type": "stream",
     "text": [
      "            TS               Tag      Value\n",
      "0   2024-01-01     Examen_Nimrod  67.353493\n",
      "1   2024-01-01       Examen_Luis   3.222802\n",
      "2   2024-01-01  Examen_MariaJose  74.931149\n",
      "3   2024-01-01    Examen_Nicolas  51.593694\n",
      "4   2024-01-01     Examen_Kailei  52.420169\n",
      "..         ...               ...        ...\n",
      "995 2024-02-28      Examen_Kenya  39.129698\n",
      "996 2024-02-28     Examen_Miguel  63.217950\n",
      "997 2024-02-28    Examen_Claudia  79.964536\n",
      "998 2024-02-28        Examen_Ana  41.243360\n",
      "999 2024-02-28     Examen_Daniel  41.925259\n",
      "\n",
      "[1000 rows x 3 columns]\n",
      "\n",
      "Tag\n",
      "Examen_Ana          50.412359\n",
      "Examen_Carlos       49.307919\n",
      "Examen_Claudia      49.534262\n",
      "Examen_Daniel       43.645259\n",
      "Examen_Ignacio      45.525438\n",
      "Examen_Jose         52.420592\n",
      "Examen_Kailei       53.682520\n",
      "Examen_Kenya        49.179473\n",
      "Examen_Luis         47.718214\n",
      "Examen_Manuel       55.570739\n",
      "Examen_MariaJose    48.526735\n",
      "Examen_Miguel       48.245528\n",
      "Examen_Nicolas      44.718336\n",
      "Examen_Nimrod       52.205145\n",
      "Examen_Noelia       53.120691\n",
      "Examen_Paulo        51.419221\n",
      "Examen_Victor       48.645458\n",
      "Name: Value, dtype: float64\n"
     ]
    }
   ],
   "source": [
    "import pandas as pd\n",
    "from Modulo import leer_datos, filtrar_calcular_media\n",
    "\n",
    "path='C:/Users/nicol/OneDrive/Documentos/examen_evaluacion/examen_evaluacion/Data/datos_examen.csv'\n",
    "\n",
    "def main():\n",
    "    df=leer_datos(path)\n",
    "    print(df)\n",
    "    print()\n",
    "    print(filtrar_calcular_media(df))\n",
    "\n",
    "if __name__ == \"__main__\":\n",
    "    main()"
   ]
  }
 ],
 "metadata": {
  "kernelspec": {
   "display_name": "examen-env",
   "language": "python",
   "name": "python3"
  },
  "language_info": {
   "codemirror_mode": {
    "name": "ipython",
    "version": 3
   },
   "file_extension": ".py",
   "mimetype": "text/x-python",
   "name": "python",
   "nbconvert_exporter": "python",
   "pygments_lexer": "ipython3",
   "version": "3.12.0"
  }
 },
 "nbformat": 4,
 "nbformat_minor": 2
}
